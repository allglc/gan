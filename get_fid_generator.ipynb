{
 "cells": [
  {
   "cell_type": "code",
   "execution_count": null,
   "metadata": {},
   "outputs": [],
   "source": [
    "import torch\n",
    "\n",
    "from models import Generator_28\n",
    "\n",
    "device = 'cuda'"
   ]
  },
  {
   "cell_type": "code",
   "execution_count": null,
   "metadata": {},
   "outputs": [],
   "source": [
    "fname = './models/DCGAN_corrupted_MNIST_weights_20211208_1838.pth'\n",
    "conditional = True if 'conditional' in fname else False\n",
    "\n",
    "z_dim = 64\n",
    "n_classes = 10 if conditional else 0\n",
    "generator_input_dim = z_dim + n_classes\n",
    "\n",
    "gen = Generator_28(generator_input_dim).to(device)\n",
    "gen.load_state_dict(torch.load(fname))\n",
    "gen.eval()"
   ]
  }
 ],
 "metadata": {
  "language_info": {
   "name": "python"
  },
  "orig_nbformat": 4
 },
 "nbformat": 4,
 "nbformat_minor": 2
}

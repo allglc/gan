{
 "cells": [
  {
   "cell_type": "code",
   "execution_count": 1,
   "metadata": {},
   "outputs": [
    {
     "name": "stdout",
     "output_type": "stream",
     "text": [
      "Using cuda device\n"
     ]
    }
   ],
   "source": [
    "import os\n",
    "os.environ[\"CUDA_VISIBLE_DEVICES\"]=\"1\"\n",
    "from datetime import datetime\n",
    "import matplotlib.pyplot as plt\n",
    "import torch\n",
    "from torch import nn\n",
    "from torch.utils.data import DataLoader\n",
    "from torchvision import datasets\n",
    "from torchvision.transforms import ToTensor\n",
    "\n",
    "from models import MLP, CNN_MNIST\n",
    "from utils import test\n",
    "\n",
    "device = 'cuda' if torch.cuda.is_available() else 'cpu'\n",
    "print(\"Using {} device\".format(device))"
   ]
  },
  {
   "cell_type": "code",
   "execution_count": 2,
   "metadata": {},
   "outputs": [
    {
     "name": "stderr",
     "output_type": "stream",
     "text": [
      "/d/alecoz/miniconda3/envs/alc/lib/python3.9/site-packages/torchvision/datasets/mnist.py:498: UserWarning: The given NumPy array is not writeable, and PyTorch does not support non-writeable tensors. This means you can write to the underlying (supposedly non-writeable) NumPy array using the tensor. You may want to copy the array to protect its data or make it writeable before converting it to a tensor. This type of warning will be suppressed for the rest of this program. (Triggered internally at  /home/conda/feedstock_root/build_artifacts/pytorch-recipe_1635068699003/work/torch/csrc/utils/tensor_numpy.cpp:189.)\n",
      "  return torch.from_numpy(parsed.astype(m[2], copy=False)).view(*s)\n"
     ]
    }
   ],
   "source": [
    "train_data = datasets.MNIST(\n",
    "    root='../data',\n",
    "    train=True,\n",
    "    download=True,\n",
    "    transform=ToTensor()\n",
    ")\n",
    "test_data = datasets.MNIST(\n",
    "    root='../data',\n",
    "    train=False,\n",
    "    download=True,\n",
    "    transform=ToTensor()\n",
    ")"
   ]
  },
  {
   "cell_type": "code",
   "execution_count": 3,
   "metadata": {},
   "outputs": [
    {
     "data": {
      "image/png": "[encoded data removed]",
      "text/plain": [
       "<Figure size 576x576 with 9 Axes>"
      ]
     },
     "metadata": {
      "needs_background": "light"
     },
     "output_type": "display_data"
    }
   ],
   "source": [
    "fig = plt.figure(figsize=(8, 8))\n",
    "rows, cols = 3, 3\n",
    "for i in range(1, rows*cols+1):\n",
    "    sample_idx = torch.randint(len(train_data), size=(1,)).item()\n",
    "    img, label = train_data[sample_idx]\n",
    "    fig.add_subplot(rows, cols, i)\n",
    "    plt.title(label)\n",
    "    plt.imshow(img.squeeze(), cmap='gray')\n",
    "    plt.axis('off')"
   ]
  },
  {
   "cell_type": "code",
   "execution_count": 4,
   "metadata": {},
   "outputs": [],
   "source": [
    "BATCH_SIZE = 64\n",
    "HIDDEN_DIM = 64\n",
    "NB_EPOCHS = 10\n",
    "train_dataloader = DataLoader(train_data, batch_size=BATCH_SIZE)\n",
    "test_dataloader = DataLoader(test_data, batch_size=BATCH_SIZE)"
   ]
  },
  {
   "cell_type": "code",
   "execution_count": 5,
   "metadata": {},
   "outputs": [],
   "source": [
    "def train(dataloader, model, loss_function, optimizer):\n",
    "\n",
    "    size = len(dataloader.dataset)\n",
    "\n",
    "    for batch, (X, y) in enumerate(dataloader):\n",
    "\n",
    "        X, y = X.to(device), y.to(device)\n",
    "        \n",
    "        # Compute prediction and loss\n",
    "        y_pred = model(X)\n",
    "        loss = loss_function(y_pred, y)\n",
    "\n",
    "        # Backpropagation\n",
    "        optimizer.zero_grad()\n",
    "        loss.backward()\n",
    "        optimizer.step()\n",
    "\n",
    "        if batch % 100 == 0:\n",
    "            print('[{}/{}] loss: {}'.format(batch*len(X), size, loss))\n"
   ]
  },
  {
   "cell_type": "code",
   "execution_count": 6,
   "metadata": {},
   "outputs": [],
   "source": [
    "# model = MLP().to(device)\n",
    "model = CNN_MNIST().to(device)\n",
    "\n",
    "loss_function = nn.CrossEntropyLoss()\n",
    "optimizer = torch.optim.Adam(model.parameters())"
   ]
  },
  {
   "cell_type": "code",
   "execution_count": 7,
   "metadata": {},
   "outputs": [
    {
     "name": "stdout",
     "output_type": "stream",
     "text": [
      "Test error: 2.4489548206329346\n",
      "Accuracy 0.0828\n",
      "\n",
      "Epoch 1/10\n",
      "-------------------\n",
      "[0/60000] loss: 2.3977935314178467\n",
      "[6400/60000] loss: 0.18736925721168518\n",
      "[12800/60000] loss: 0.11534761637449265\n",
      "[19200/60000] loss: 0.21198983490467072\n",
      "[25600/60000] loss: 0.1758907437324524\n",
      "[32000/60000] loss: 0.36128878593444824\n",
      "[38400/60000] loss: 0.14203986525535583\n",
      "[44800/60000] loss: 0.172719344496727\n",
      "[51200/60000] loss: 0.22213633358478546\n",
      "[57600/60000] loss: 0.05620232969522476\n",
      "Test error: 0.11799829453229904\n",
      "Accuracy 0.9635\n",
      "\n",
      "Epoch 2/10\n",
      "-------------------\n",
      "[0/60000] loss: 0.1396876871585846\n",
      "[6400/60000] loss: 0.14500686526298523\n",
      "[12800/60000] loss: 0.0668657049536705\n",
      "[19200/60000] loss: 0.013066334649920464\n",
      "[25600/60000] loss: 0.022289743646979332\n",
      "[32000/60000] loss: 0.040940891951322556\n",
      "[38400/60000] loss: 0.1459013968706131\n",
      "[44800/60000] loss: 0.12697376310825348\n",
      "[51200/60000] loss: 0.18324516713619232\n",
      "[57600/60000] loss: 0.04279070720076561\n",
      "Test error: 0.055836938321590424\n",
      "Accuracy 0.9827\n",
      "\n",
      "Epoch 3/10\n",
      "-------------------\n",
      "[0/60000] loss: 0.01177952904254198\n",
      "[6400/60000] loss: 0.13864091038703918\n",
      "[12800/60000] loss: 0.049542590975761414\n",
      "[19200/60000] loss: 0.030655179172754288\n",
      "[25600/60000] loss: 0.009024051949381828\n",
      "[32000/60000] loss: 0.024470750242471695\n",
      "[38400/60000] loss: 0.159199059009552\n",
      "[44800/60000] loss: 0.07974278181791306\n",
      "[51200/60000] loss: 0.15174996852874756\n",
      "[57600/60000] loss: 0.06737823784351349\n",
      "Test error: 0.07353562861680984\n",
      "Accuracy 0.9781\n",
      "\n",
      "Epoch 4/10\n",
      "-------------------\n",
      "[0/60000] loss: 0.04163271188735962\n",
      "[6400/60000] loss: 0.09662029892206192\n",
      "[12800/60000] loss: 0.03151855617761612\n",
      "[19200/60000] loss: 0.07470602542161942\n",
      "[25600/60000] loss: 0.018008580431342125\n",
      "[32000/60000] loss: 0.04140881821513176\n",
      "[38400/60000] loss: 0.09009202569723129\n",
      "[44800/60000] loss: 0.02081502042710781\n",
      "[51200/60000] loss: 0.14987316727638245\n",
      "[57600/60000] loss: 0.05205922573804855\n",
      "Test error: 0.06030712649226189\n",
      "Accuracy 0.9816\n",
      "\n",
      "Epoch 5/10\n",
      "-------------------\n",
      "[0/60000] loss: 0.005161830224096775\n",
      "[6400/60000] loss: 0.0397690050303936\n",
      "[12800/60000] loss: 0.021766051650047302\n",
      "[19200/60000] loss: 0.131434828042984\n",
      "[25600/60000] loss: 0.006101326085627079\n",
      "[32000/60000] loss: 0.06496745347976685\n",
      "[38400/60000] loss: 0.008546731434762478\n",
      "[44800/60000] loss: 0.02591891586780548\n",
      "[51200/60000] loss: 0.10566124320030212\n",
      "[57600/60000] loss: 0.003823610255494714\n",
      "Test error: 0.06524524092674255\n",
      "Accuracy 0.9825\n",
      "\n",
      "Epoch 6/10\n",
      "-------------------\n",
      "[0/60000] loss: 0.005901420954614878\n",
      "[6400/60000] loss: 0.025641659274697304\n",
      "[12800/60000] loss: 0.024622485041618347\n",
      "[19200/60000] loss: 0.02992648258805275\n",
      "[25600/60000] loss: 0.005394234787672758\n",
      "[32000/60000] loss: 0.03822723776102066\n",
      "[38400/60000] loss: 0.05992313101887703\n",
      "[44800/60000] loss: 0.053266752511262894\n",
      "[51200/60000] loss: 0.03223983943462372\n",
      "[57600/60000] loss: 0.028058521449565887\n",
      "Test error: 0.04978373274207115\n",
      "Accuracy 0.9859\n",
      "\n",
      "Epoch 7/10\n",
      "-------------------\n",
      "[0/60000] loss: 0.020835796371102333\n",
      "[6400/60000] loss: 0.06644850969314575\n",
      "[12800/60000] loss: 0.02198508009314537\n",
      "[19200/60000] loss: 0.0008242480107583106\n",
      "[25600/60000] loss: 0.009586881846189499\n",
      "[32000/60000] loss: 0.018032440915703773\n",
      "[38400/60000] loss: 0.010720392689108849\n",
      "[44800/60000] loss: 0.018213054165244102\n",
      "[51200/60000] loss: 0.006164944730699062\n",
      "[57600/60000] loss: 0.014484327286481857\n",
      "Test error: 0.059649206697940826\n",
      "Accuracy 0.984\n",
      "\n",
      "Epoch 8/10\n",
      "-------------------\n",
      "[0/60000] loss: 0.0014475664356723428\n",
      "[6400/60000] loss: 0.0039043736178427935\n",
      "[12800/60000] loss: 0.00477809552103281\n",
      "[19200/60000] loss: 0.001598938717506826\n",
      "[25600/60000] loss: 0.01682332716882229\n",
      "[32000/60000] loss: 0.06320584565401077\n",
      "[38400/60000] loss: 0.020196396857500076\n",
      "[44800/60000] loss: 0.015471878461539745\n",
      "[51200/60000] loss: 0.03650698810815811\n",
      "[57600/60000] loss: 0.005194472149014473\n",
      "Test error: 0.047695379704236984\n",
      "Accuracy 0.9864\n",
      "\n",
      "Epoch 9/10\n",
      "-------------------\n",
      "[0/60000] loss: 0.0003977986052632332\n",
      "[6400/60000] loss: 0.14248673617839813\n",
      "[12800/60000] loss: 0.05226682871580124\n",
      "[19200/60000] loss: 0.058709535747766495\n",
      "[25600/60000] loss: 0.0007177101215347648\n",
      "[32000/60000] loss: 0.021692141890525818\n",
      "[38400/60000] loss: 0.001030633575282991\n",
      "[44800/60000] loss: 0.029109345749020576\n",
      "[51200/60000] loss: 0.08850116282701492\n",
      "[57600/60000] loss: 0.02261148765683174\n",
      "Test error: 0.06175116449594498\n",
      "Accuracy 0.9845\n",
      "\n",
      "Epoch 10/10\n",
      "-------------------\n",
      "[0/60000] loss: 0.0006214534514583647\n",
      "[6400/60000] loss: 0.0003226860426366329\n",
      "[12800/60000] loss: 0.023043004795908928\n",
      "[19200/60000] loss: 0.0219101719558239\n",
      "[25600/60000] loss: 0.0034870458766818047\n",
      "[32000/60000] loss: 0.007805238477885723\n",
      "[38400/60000] loss: 0.00011003852705471218\n",
      "[44800/60000] loss: 0.01449524611234665\n",
      "[51200/60000] loss: 0.044336747378110886\n",
      "[57600/60000] loss: 0.009298224933445454\n",
      "Test error: 0.0658096969127655\n",
      "Accuracy 0.9847\n",
      "\n"
     ]
    }
   ],
   "source": [
    "test(test_dataloader, model, loss_function, device)\n",
    "for e in range(1, NB_EPOCHS+1):\n",
    "    print(f'Epoch {e}/{NB_EPOCHS}\\n-------------------')\n",
    "    train(train_dataloader, model, loss_function, optimizer)\n",
    "    test(test_dataloader, model, loss_function, device)"
   ]
  },
  {
   "cell_type": "code",
   "execution_count": 8,
   "metadata": {},
   "outputs": [],
   "source": [
    "torch.save(model.state_dict(), f'..\\models\\CNN_MNIST_weights_{datetime.now().strftime(\"%Y%m%d_%H%M\")}.pth')"
   ]
  }
 ],
 "metadata": {
  "interpreter": {
   "hash": "cf0e85ac5c104e7dc18f35eb0f3f17acfc5d19b9cd0ff3830c651a628ffe0833"
  },
  "kernelspec": {
   "display_name": "Python 3.9.7 64-bit ('alc': conda)",
   "language": "python",
   "name": "python3"
  },
  "language_info": {
   "codemirror_mode": {
    "name": "ipython",
    "version": 3
   },
   "file_extension": ".py",
   "mimetype": "text/x-python",
   "name": "python",
   "nbconvert_exporter": "python",
   "pygments_lexer": "ipython3",
   "version": "3.9.7"
  },
  "orig_nbformat": 4
 },
 "nbformat": 4,
 "nbformat_minor": 2
}

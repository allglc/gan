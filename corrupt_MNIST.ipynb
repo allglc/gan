{
 "cells": [
  {
   "cell_type": "code",
   "execution_count": 1,
   "metadata": {},
   "outputs": [
    {
     "name": "stdout",
     "output_type": "stream",
     "text": [
      "Using cpu device\n"
     ]
    }
   ],
   "source": [
    "import os\n",
    "os.environ[\"CUDA_VISIBLE_DEVICES\"]=\"1\"\n",
    "import numpy as np\n",
    "import pandas as pd\n",
    "import matplotlib.pyplot as plt\n",
    "from tqdm import tqdm\n",
    "import torch\n",
    "from torchvision import datasets\n",
    "from torchvision.transforms import Compose, Resize, Lambda, ToTensor, Grayscale, ToPILImage\n",
    "from torch.utils.data import DataLoader\n",
    "\n",
    "from imagenet_c import corrupt\n",
    "from imagenet_c.corruptions import (\n",
    "    gaussian_noise, shot_noise, impulse_noise, defocus_blur,\n",
    "    glass_blur, motion_blur, zoom_blur, snow, frost, fog,\n",
    "    brightness, contrast, elastic_transform, pixelate, jpeg_compression,\n",
    "    speckle_noise, gaussian_blur, spatter, saturate)\n",
    "from models import MLP\n",
    "from utils import test\n",
    "\n",
    "torch.manual_seed(0)\n",
    "np.random.seed(0)\n",
    "\n",
    "device = 'cuda' if torch.cuda.is_available() else 'cpu'\n",
    "print(\"Using {} device\".format(device))"
   ]
  },
  {
   "cell_type": "code",
   "execution_count": 2,
   "metadata": {},
   "outputs": [],
   "source": [
    "# Load corruption functions\n",
    "corruption_tuple = (gaussian_noise, shot_noise, impulse_noise, defocus_blur,\n",
    "                    glass_blur, motion_blur, \n",
    "                    zoom_blur, snow, frost, fog,\n",
    "                    brightness, contrast, elastic_transform, pixelate, jpeg_compression,\n",
    "                    speckle_noise, gaussian_blur, spatter, saturate)\n",
    "\n",
    "corruption_dict = {corr_func.__name__: corr_func for corr_func in corruption_tuple}\n",
    "\n",
    "# Load model\n",
    "model = MLP().to(device)\n",
    "model.load_state_dict(torch.load('..\\models\\MLP_MNIST_weights_20211123_1013.pth'))\n",
    "model.eval()\n",
    "\n",
    "# Define variables\n",
    "BATCH_SIZE = 64\n"
   ]
  },
  {
   "cell_type": "markdown",
   "metadata": {},
   "source": [
    "# Test classifier accuracy for different corruptions and severities"
   ]
  },
  {
   "cell_type": "code",
   "execution_count": 3,
   "metadata": {},
   "outputs": [
    {
     "name": "stderr",
     "output_type": "stream",
     "text": [
      "100%|██████████| 19/19 [02:38<00:00,  8.35s/it]\n"
     ]
    },
    {
     "data": {
      "text/html": [
       "<div>\n",
       "<style scoped>\n",
       "    .dataframe tbody tr th:only-of-type {\n",
       "        vertical-align: middle;\n",
       "    }\n",
       "\n",
       "    .dataframe tbody tr th {\n",
       "        vertical-align: top;\n",
       "    }\n",
       "\n",
       "    .dataframe thead th {\n",
       "        text-align: right;\n",
       "    }\n",
       "</style>\n",
       "<table border=\"1\" class=\"dataframe\">\n",
       "  <thead>\n",
       "    <tr style=\"text-align: right;\">\n",
       "      <th></th>\n",
       "      <th>severity=1</th>\n",
       "      <th>severity=2</th>\n",
       "      <th>severity=3</th>\n",
       "      <th>severity=4</th>\n",
       "      <th>severity=5</th>\n",
       "    </tr>\n",
       "  </thead>\n",
       "  <tbody>\n",
       "    <tr>\n",
       "      <th>uncorrupted</th>\n",
       "      <td>0.9801</td>\n",
       "      <td>0.9801</td>\n",
       "      <td>0.9801</td>\n",
       "      <td>0.9801</td>\n",
       "      <td>0.9801</td>\n",
       "    </tr>\n",
       "    <tr>\n",
       "      <th>gaussian_noise</th>\n",
       "      <td>0.9772</td>\n",
       "      <td>0.9717</td>\n",
       "      <td>0.9496</td>\n",
       "      <td>0.8549</td>\n",
       "      <td>0.6553</td>\n",
       "    </tr>\n",
       "    <tr>\n",
       "      <th>shot_noise</th>\n",
       "      <td>0.9802</td>\n",
       "      <td>0.9788</td>\n",
       "      <td>0.979</td>\n",
       "      <td>0.9774</td>\n",
       "      <td>0.9748</td>\n",
       "    </tr>\n",
       "    <tr>\n",
       "      <th>impulse_noise</th>\n",
       "      <td>0.9756</td>\n",
       "      <td>0.964</td>\n",
       "      <td>0.947</td>\n",
       "      <td>0.8447</td>\n",
       "      <td>0.6503</td>\n",
       "    </tr>\n",
       "    <tr>\n",
       "      <th>contrast</th>\n",
       "      <td>0.8182</td>\n",
       "      <td>0.5921</td>\n",
       "      <td>0.4024</td>\n",
       "      <td>0.2002</td>\n",
       "      <td>0.1318</td>\n",
       "    </tr>\n",
       "    <tr>\n",
       "      <th>jpeg_compression</th>\n",
       "      <td>0.9805</td>\n",
       "      <td>0.9804</td>\n",
       "      <td>0.9799</td>\n",
       "      <td>0.981</td>\n",
       "      <td>0.9793</td>\n",
       "    </tr>\n",
       "    <tr>\n",
       "      <th>speckle_noise</th>\n",
       "      <td>0.9797</td>\n",
       "      <td>0.9793</td>\n",
       "      <td>0.9776</td>\n",
       "      <td>0.9761</td>\n",
       "      <td>0.9764</td>\n",
       "    </tr>\n",
       "    <tr>\n",
       "      <th>gaussian_blur</th>\n",
       "      <td>0.9767</td>\n",
       "      <td>0.9315</td>\n",
       "      <td>0.7746</td>\n",
       "      <td>0.6105</td>\n",
       "      <td>0.3848</td>\n",
       "    </tr>\n",
       "  </tbody>\n",
       "</table>\n",
       "</div>"
      ],
      "text/plain": [
       "                 severity=1 severity=2 severity=3 severity=4 severity=5\n",
       "uncorrupted          0.9801     0.9801     0.9801     0.9801     0.9801\n",
       "gaussian_noise       0.9772     0.9717     0.9496     0.8549     0.6553\n",
       "shot_noise           0.9802     0.9788      0.979     0.9774     0.9748\n",
       "impulse_noise        0.9756      0.964      0.947     0.8447     0.6503\n",
       "contrast             0.8182     0.5921     0.4024     0.2002     0.1318\n",
       "jpeg_compression     0.9805     0.9804     0.9799      0.981     0.9793\n",
       "speckle_noise        0.9797     0.9793     0.9776     0.9761     0.9764\n",
       "gaussian_blur        0.9767     0.9315     0.7746     0.6105     0.3848"
      ]
     },
     "execution_count": 3,
     "metadata": {},
     "output_type": "execute_result"
    }
   ],
   "source": [
    "df_results = pd.DataFrame(index=['uncorrupted']+list(corruption_dict.keys()), columns=[f'severity={i}' for i in range(1, 6)])\n",
    "\n",
    "# Uncorrupted baseline\n",
    "test_data = datasets.MNIST(\n",
    "                root='../data',\n",
    "                train=False,\n",
    "                download=True,\n",
    "                transform=Compose([\n",
    "                    # Resize(244),\n",
    "                    # Grayscale(3), # to RGB\n",
    "                    # corruption_transform,\n",
    "                    ToTensor(),\n",
    "                    # Resize(28),\n",
    "                    # Grayscale(),\n",
    "\n",
    "                ])\n",
    "            )\n",
    "test_dataloader = DataLoader(test_data, batch_size=BATCH_SIZE)\n",
    "_, accuracy = test(test_dataloader, model, torch.nn.CrossEntropyLoss(), device)\n",
    "df_results.loc['uncorrupted', :] = accuracy\n",
    "\n",
    "# Corrupted\n",
    "for corruption in tqdm(corruption_dict.keys()):\n",
    "    \n",
    "    for severity in range(1, 6):\n",
    "\n",
    "        try:\n",
    "\n",
    "            corruption_transform = Lambda(lambda x: corrupt(np.uint8(x), severity=severity, corruption_name=corruption))\n",
    "\n",
    "            test_data = datasets.MNIST(\n",
    "                root='../data',\n",
    "                train=False,\n",
    "                download=True,\n",
    "                transform=Compose([\n",
    "                    # Resize(244),\n",
    "                    # Grayscale(3), # to RGB\n",
    "                    corruption_transform,\n",
    "                    ToTensor(),\n",
    "                    # Resize(28),\n",
    "                    # Grayscale(),\n",
    "\n",
    "                ])\n",
    "            )\n",
    "\n",
    "            test_dataloader = DataLoader(test_data, batch_size=BATCH_SIZE)\n",
    "            _, accuracy = test(test_dataloader, model, torch.nn.CrossEntropyLoss(), device)\n",
    "            df_results.loc[corruption, f'severity={severity}'] = accuracy\n",
    "\n",
    "        except:\n",
    "            continue\n",
    "\n",
    "df_results = df_results.dropna()\n",
    "df_results"
   ]
  },
  {
   "cell_type": "markdown",
   "metadata": {},
   "source": [
    "# Visualize corruptions"
   ]
  },
  {
   "cell_type": "code",
   "execution_count": 4,
   "metadata": {},
   "outputs": [
    {
     "data": {
      "image/png": "[encoded data removed]",
      "text/plain": [
       "<Figure size 2160x720 with 8 Axes>"
      ]
     },
     "metadata": {
      "needs_background": "light"
     },
     "output_type": "display_data"
    }
   ],
   "source": [
    "valid_corruptions = df_results.index.tolist()\n",
    "\n",
    "test_data = datasets.MNIST(\n",
    "                root='../data',\n",
    "                train=False,\n",
    "            )\n",
    "            \n",
    "img = test_data[0][0]\n",
    "img = np.uint8(img)\n",
    "\n",
    "\n",
    "plt.figure(figsize=(30, 10))\n",
    "for i, corruption in enumerate(valid_corruptions):\n",
    "\n",
    "    if corruption == 'uncorrupted':\n",
    "        img_c = img\n",
    "    else:\n",
    "        img_c = corrupt(img, severity=5, corruption_name=corruption)\n",
    "\n",
    "    plt.subplot(1, len(valid_corruptions), i+1)\n",
    "    plt.imshow(img_c, cmap='gray', vmin=0, vmax=255)\n",
    "    plt.axis('off')\n",
    "    plt.title(corruption)"
   ]
  },
  {
   "cell_type": "markdown",
   "metadata": {},
   "source": [
    "# Generate dataset including corruption with random severity"
   ]
  },
  {
   "cell_type": "code",
   "execution_count": 5,
   "metadata": {},
   "outputs": [
    {
     "data": {
      "text/plain": [
       "(-0.5, 27.5, 27.5, -0.5)"
      ]
     },
     "execution_count": 5,
     "metadata": {},
     "output_type": "execute_result"
    },
    {
     "data": {
      "image/png": "[encoded data removed]",
      "text/plain": [
       "<Figure size 432x288 with 1 Axes>"
      ]
     },
     "metadata": {
      "needs_background": "light"
     },
     "output_type": "display_data"
    }
   ],
   "source": [
    "corruption_transform = Lambda(lambda x: corrupt(np.uint8(x), severity=np.random.randint(1, 6), corruption_name='contrast'))\n",
    "\n",
    "train_data_corrupted = datasets.MNIST(\n",
    "    root='../data',\n",
    "    train=True,\n",
    "    download=True,\n",
    "    transform=Compose([\n",
    "        corruption_transform,\n",
    "        ToTensor(),\n",
    "    ])\n",
    ")\n",
    "\n",
    "img = test_data[0][0]\n",
    "plt.figure()\n",
    "plt.imshow(img, cmap='gray', vmin=0, vmax=255)\n",
    "plt.axis('off')"
   ]
  },
  {
   "cell_type": "code",
   "execution_count": null,
   "metadata": {},
   "outputs": [],
   "source": []
  }
 ],
 "metadata": {
  "interpreter": {
   "hash": "423ab4cb8afc3892d0c8aaa912a899cb5b458da2193e7168c31396154279afba"
  },
  "kernelspec": {
   "display_name": "Python 3.9.5 64-bit ('base': conda)",
   "language": "python",
   "name": "python3"
  },
  "language_info": {
   "codemirror_mode": {
    "name": "ipython",
    "version": 3
   },
   "file_extension": ".py",
   "mimetype": "text/x-python",
   "name": "python",
   "nbconvert_exporter": "python",
   "pygments_lexer": "ipython3",
   "version": "3.9.5"
  },
  "orig_nbformat": 4
 },
 "nbformat": 4,
 "nbformat_minor": 2
}

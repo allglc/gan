{
 "cells": [
  {
   "cell_type": "code",
   "execution_count": 1,
   "metadata": {},
   "outputs": [],
   "source": [
    "import torch\n",
    "import numpy as np\n",
    "import torchvision.utils as vutils\n",
    "import matplotlib.pyplot as plt\n",
    "from torch import nn\n",
    "\n",
    "from models import Generator_28, Discriminator_28\n",
    "\n",
    "device = 'cuda'\n"
   ]
  },
  {
   "cell_type": "code",
   "execution_count": 3,
   "metadata": {},
   "outputs": [
    {
     "data": {
      "text/plain": [
       "Generator_28(\n",
       "  (gen): Sequential(\n",
       "    (0): Sequential(\n",
       "      (0): ConvTranspose2d(74, 256, kernel_size=(3, 3), stride=(2, 2))\n",
       "      (1): BatchNorm2d(256, eps=1e-05, momentum=0.1, affine=True, track_running_stats=True)\n",
       "      (2): ReLU()\n",
       "    )\n",
       "    (1): Sequential(\n",
       "      (0): ConvTranspose2d(256, 128, kernel_size=(4, 4), stride=(1, 1))\n",
       "      (1): BatchNorm2d(128, eps=1e-05, momentum=0.1, affine=True, track_running_stats=True)\n",
       "      (2): ReLU()\n",
       "    )\n",
       "    (2): Sequential(\n",
       "      (0): ConvTranspose2d(128, 64, kernel_size=(3, 3), stride=(2, 2))\n",
       "      (1): BatchNorm2d(64, eps=1e-05, momentum=0.1, affine=True, track_running_stats=True)\n",
       "      (2): ReLU()\n",
       "    )\n",
       "    (3): Sequential(\n",
       "      (0): ConvTranspose2d(64, 1, kernel_size=(4, 4), stride=(2, 2))\n",
       "      (1): Tanh()\n",
       "    )\n",
       "  )\n",
       ")"
      ]
     },
     "execution_count": 3,
     "metadata": {},
     "output_type": "execute_result"
    }
   ],
   "source": [
    "# fname = '../models/DCGAN_conditional_MNIST_weights_20211208_1741.pth'\n",
    "fname = '../models/DCGAN_conditional_corrupted_MNIST_weights_20211208_1800.pth'\n",
    "conditional = True if 'conditional' in fname else False\n",
    "\n",
    "z_dim = 64\n",
    "n_classes = 10 if conditional else 0\n",
    "generator_input_dim = z_dim + n_classes\n",
    "\n",
    "gen = Generator_28(generator_input_dim).to(device)\n",
    "gen.load_state_dict(torch.load(fname))\n",
    "gen.eval()"
   ]
  },
  {
   "cell_type": "code",
   "execution_count": 69,
   "metadata": {},
   "outputs": [
    {
     "name": "stderr",
     "output_type": "stream",
     "text": [
      "Clipping input data to the valid range for imshow with RGB data ([0..1] for floats or [0..255] for integers).\n"
     ]
    },
    {
     "data": {
      "text/plain": [
       "<matplotlib.image.AxesImage at 0x7fd054427820>"
      ]
     },
     "execution_count": 69,
     "metadata": {},
     "output_type": "execute_result"
    },
    {
     "data": {
      "image/png": "[encoded data removed]",
      "text/plain": [
       "<Figure size 1080x1080 with 1 Axes>"
      ]
     },
     "metadata": {
      "needs_background": "light"
     },
     "output_type": "display_data"
    }
   ],
   "source": [
    "noise_1 = torch.randn(1, z_dim, 1, 1, device=device)\n",
    "noise_2 = torch.randn(1, z_dim, 1, 1, device=device)\n",
    "images = []\n",
    "label = torch.tensor([3])\n",
    "\n",
    "for alpha in np.linspace(0, 1, num=8):\n",
    "    noise = (1-alpha)*noise_1 + alpha*noise_2\n",
    "    if conditional:\n",
    "        one_hot_labels = nn.functional.one_hot(label.to(device), n_classes)[:,:,None,None]\n",
    "        noise = torch.cat((noise.float(), one_hot_labels.float()), dim=1)\n",
    "    with torch.no_grad():\n",
    "        fake = gen(noise).detach().cpu()\n",
    "    images.append(fake)\n",
    "\n",
    "images = torch.cat(images, 0)\n",
    "vutils.make_grid(images).permute(1,2,0)\n",
    "\n",
    "plt.figure(figsize=(15,15))\n",
    "plt.axis(\"off\")\n",
    "plt.imshow(vutils.make_grid(images, pad_value=1, nrow=8).permute(1,2,0))"
   ]
  },
  {
   "cell_type": "code",
   "execution_count": null,
   "metadata": {},
   "outputs": [],
   "source": []
  }
 ],
 "metadata": {
  "interpreter": {
   "hash": "cf0e85ac5c104e7dc18f35eb0f3f17acfc5d19b9cd0ff3830c651a628ffe0833"
  },
  "kernelspec": {
   "display_name": "Python 3.9.7 64-bit ('alc': conda)",
   "language": "python",
   "name": "python3"
  },
  "language_info": {
   "codemirror_mode": {
    "name": "ipython",
    "version": 3
   },
   "file_extension": ".py",
   "mimetype": "text/x-python",
   "name": "python",
   "nbconvert_exporter": "python",
   "pygments_lexer": "ipython3",
   "version": "3.9.7"
  },
  "orig_nbformat": 4
 },
 "nbformat": 4,
 "nbformat_minor": 2
}
